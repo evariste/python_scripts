{
 "cells": [
  {
   "cell_type": "markdown",
   "metadata": {},
   "source": [
    "### Square symmetries and the permutations of four elements in a square."
   ]
  },
  {
   "cell_type": "markdown",
   "metadata": {},
   "source": [
    "Some bits and pieces on the symmetries of a square and how these \n",
    "interact with the number of ways of arranging four elements at\n",
    "the corners of a square"
   ]
  },
  {
   "cell_type": "code",
   "execution_count": 1,
   "metadata": {
    "collapsed": true
   },
   "outputs": [],
   "source": [
    "import numpy as np\n",
    "import itertools"
   ]
  },
  {
   "cell_type": "markdown",
   "metadata": {},
   "source": [
    "The operations that give the symmetries of a square, four rotations (including the identity rotation of zero degrees)\n",
    "and four reflections.\n",
    "\n",
    "Notation as used by http://www.cs.umb.edu/~eb/d4/\n"
   ]
  },
  {
   "cell_type": "code",
   "execution_count": 27,
   "metadata": {
    "collapsed": true
   },
   "outputs": [],
   "source": [
    "def r0(a): # Identity\n",
    "    return a\n",
    "\n",
    "def r1(a): # 90\n",
    "    return np.rot90(a)\n",
    "\n",
    "def r2(a): # 180\n",
    "    return r1(r1(a))\n",
    "\n",
    "def r3(a): # 270\n",
    "    return r2(r1(a))\n",
    "\n",
    "def m1(a): # LR\n",
    "    return np.fliplr(a)\n",
    "\n",
    "def m2(a): # UD\n",
    "    return np.flipud(a)\n",
    "\n",
    "def d1(a): # .T\n",
    "    return np.transpose(a)\n",
    "\n",
    "def d2(a): # off-diagonal transpose\n",
    "    return m1(r1(a))\n",
    "\n",
    "allOps = [r0, r1, r2, r3, m1, m2, d1, d2]\n",
    "\n",
    "nOps = len(allOps)"
   ]
  },
  {
   "cell_type": "markdown",
   "metadata": {},
   "source": [
    "Get all the permutations for four elements.\n",
    "Reshape each one into a 2x2 array.\n",
    "Store them all in a list\n"
   ]
  },
  {
   "cell_type": "code",
   "execution_count": 20,
   "metadata": {
    "collapsed": false
   },
   "outputs": [],
   "source": [
    "a = np.arange(4)\n",
    "\n",
    "perms2x2 = []\n",
    "\n",
    "for p in itertools.permutations(a):\n",
    "    perms2x2.append(np.reshape(p,(2,2)))\n",
    "    \n",
    "nPerms2x2 = len(perms2x2)"
   ]
  },
  {
   "cell_type": "code",
   "execution_count": 21,
   "metadata": {
    "collapsed": true
   },
   "outputs": [],
   "source": [
    "def getIndexInPerms2x2(a):\n",
    "    '''\n",
    "    Given a 2x2 array with the elements 0,1,2,3 in some order, find the \n",
    "    index corresponding to it in the list perms2x2 (see above)\n",
    "    '''\n",
    "    func = lambda k: np.all(perms2x2[k] == a)\n",
    "    N = len(perms2x2)\n",
    "    x = list(map(func, range(N)))\n",
    "    \n",
    "    if not np.any(x):\n",
    "        raise Exception('Cannot find array in perms2x2')\n",
    "    \n",
    "    k = 0\n",
    "    while not x[k]:\n",
    "        k += 1\n",
    "    \n",
    "    return k\n",
    "    \n",
    "    "
   ]
  },
  {
   "cell_type": "markdown",
   "metadata": {},
   "source": [
    "----"
   ]
  },
  {
   "cell_type": "code",
   "execution_count": 31,
   "metadata": {
    "collapsed": false
   },
   "outputs": [
    {
     "name": "stdout",
     "output_type": "stream",
     "text": [
      "Base array\n",
      "[[0 1]\n",
      " [2 3]]\n"
     ]
    }
   ],
   "source": [
    "# The 'base' array \n",
    "arr = np.reshape(np.arange(4), newshape=(2,2))\n",
    "\n",
    "print('Base array')\n",
    "print(arr)"
   ]
  },
  {
   "cell_type": "markdown",
   "metadata": {},
   "source": [
    "Apply every operation to the base array, then identify which of the set of permutations can be reached."
   ]
  },
  {
   "cell_type": "code",
   "execution_count": 32,
   "metadata": {
    "collapsed": false
   },
   "outputs": [],
   "source": [
    "reachable = dict.fromkeys(range(nPerms2x2), [])\n",
    "\n",
    "for op in allOps:\n",
    "    res = op(arr)\n",
    "    kRes = getIndexInPerms2x2(res)\n",
    "    reachable[kRes] = reachable[kRes] + [op.__name__]\n",
    "    \n",
    "# for a,b in itertools.product(range(nOps), range(nOps)):\n",
    "#     opA, opB = allOps[a], allOps[b]\n",
    "#     res = opB(opA(arr))\n",
    "#     kRes = getIndexInPerms2x2(res)\n",
    "#     reachable[kRes] = reachable[kRes] + [ (opB.__name__, opA.__name__) ]\n",
    "    "
   ]
  },
  {
   "cell_type": "markdown",
   "metadata": {},
   "source": [
    "All the basic operations r0, r1, ..., etc. preserve the property 'diagonally opposite'.\n",
    "\n",
    "The starting array \n",
    "\n",
    "`\n",
    "0 1\n",
    "2 3\n",
    "`\n",
    "\n",
    "Has 0 diagonally opposite 3, so all eight results of applying each of the operations will still have 0-3 on a diagonal (and 1-2 on the other)\n"
   ]
  },
  {
   "cell_type": "code",
   "execution_count": 33,
   "metadata": {
    "collapsed": false,
    "scrolled": false
   },
   "outputs": [
    {
     "name": "stdout",
     "output_type": "stream",
     "text": [
      "Reachable permutations: \n",
      "0\n",
      "[[0 1]\n",
      " [2 3]]\n",
      "['r0']\n",
      "---\n",
      "2\n",
      "[[0 2]\n",
      " [1 3]]\n",
      "['d1']\n",
      "---\n",
      "7\n",
      "[[1 0]\n",
      " [3 2]]\n",
      "['m1']\n",
      "---\n",
      "10\n",
      "[[1 3]\n",
      " [0 2]]\n",
      "['r1']\n",
      "---\n",
      "13\n",
      "[[2 0]\n",
      " [3 1]]\n",
      "['r3']\n",
      "---\n",
      "16\n",
      "[[2 3]\n",
      " [0 1]]\n",
      "['m2']\n",
      "---\n",
      "21\n",
      "[[3 1]\n",
      " [2 0]]\n",
      "['d2']\n",
      "---\n",
      "23\n",
      "[[3 2]\n",
      " [1 0]]\n",
      "['r2']\n",
      "---\n"
     ]
    }
   ],
   "source": [
    "print( 'Reachable permutations: ')\n",
    "\n",
    "for k in reachable:\n",
    "    if len(reachable[k]) == 0:\n",
    "        continue\n",
    "    print(k)\n",
    "    print(perms2x2[k])\n",
    "    print(reachable[k])\n",
    "    print('---')"
   ]
  },
  {
   "cell_type": "code",
   "execution_count": 14,
   "metadata": {
    "collapsed": false
   },
   "outputs": [
    {
     "name": "stdout",
     "output_type": "stream",
     "text": [
      "Unreachable permutations\n",
      "[[0 1]\n",
      " [3 2]]\n",
      "--\n",
      "[[0 2]\n",
      " [3 1]]\n",
      "--\n",
      "[[0 3]\n",
      " [1 2]]\n",
      "--\n",
      "[[0 3]\n",
      " [2 1]]\n",
      "--\n",
      "[[1 0]\n",
      " [2 3]]\n",
      "--\n",
      "[[1 2]\n",
      " [0 3]]\n",
      "--\n",
      "[[1 2]\n",
      " [3 0]]\n",
      "--\n",
      "[[1 3]\n",
      " [2 0]]\n",
      "--\n",
      "[[2 0]\n",
      " [1 3]]\n",
      "--\n",
      "[[2 1]\n",
      " [0 3]]\n",
      "--\n",
      "[[2 1]\n",
      " [3 0]]\n",
      "--\n",
      "[[2 3]\n",
      " [1 0]]\n",
      "--\n",
      "[[3 0]\n",
      " [1 2]]\n",
      "--\n",
      "[[3 0]\n",
      " [2 1]]\n",
      "--\n",
      "[[3 1]\n",
      " [0 2]]\n",
      "--\n",
      "[[3 2]\n",
      " [0 1]]\n",
      "--\n"
     ]
    }
   ],
   "source": [
    "print('Unreachable permutations')\n",
    "unreachable = []\n",
    "for k in reachable:\n",
    "    if len(reachable[k]) == 0:\n",
    "        unreachable.append(perms2x2[k])\n",
    "        \n",
    "for u in unreachable:\n",
    "    print(u)\n",
    "    print('--')\n"
   ]
  },
  {
   "cell_type": "markdown",
   "metadata": {},
   "source": [
    "The 16 'unreachable' permutations fall into two classes depending on which elements are diagonally opposite.\n",
    "\n",
    "`\n",
    "0 1\n",
    "3 2`                  \n",
    "\n",
    "and \n",
    "\n",
    "`\n",
    "0 2\n",
    "3 1\n",
    "`\n",
    "\n",
    "These together with the original array:\n",
    "\n",
    "`\n",
    "0 1\n",
    "2 3\n",
    "`\n",
    "\n",
    "form three classes - these are the 'orbits' defined by the action of the group of square symmetries on the set of permutations of four elements arranged in a square.\n"
   ]
  },
  {
   "cell_type": "markdown",
   "metadata": {},
   "source": [
    "---"
   ]
  },
  {
   "cell_type": "markdown",
   "metadata": {},
   "source": [
    "##### The stuff below looks into the effect of applying the operations to the first two dimensions of a rank four tensor."
   ]
  },
  {
   "cell_type": "markdown",
   "metadata": {},
   "source": [
    "---"
   ]
  },
  {
   "cell_type": "code",
   "execution_count": null,
   "metadata": {
    "collapsed": false
   },
   "outputs": [],
   "source": [
    "mn = [(0,0), (0,1), (1,0), (1,1)]\n",
    "\n",
    "def print1(a):\n",
    "    for m, n in mn:\n",
    "        print(a[m,n,:,:])\n",
    "def print2(a):\n",
    "    for m, n in mn:\n",
    "        print(a[:,:,m,n])\n",
    "        "
   ]
  },
  {
   "cell_type": "code",
   "execution_count": null,
   "metadata": {
    "collapsed": true
   },
   "outputs": [],
   "source": [
    "def applyOpToFirstTwoDims(op, a):\n",
    "    dim = a.ndim\n",
    "    if dim < 3:\n",
    "        raise Exception('array must be at least 3d')\n",
    "        \n",
    "    dimsForIter = a.shape[2:]\n",
    "\n",
    "    dim0 = arr3.shape[0]\n",
    "    dim1 = arr3.shape[1]\n",
    "    ixArgsStart = [range(dim0), range(dim1)]\n",
    "\n",
    "    newshape = np.concatenate([a.shape[:2], \n",
    "                               np.ones(shape=(dim-2,), dtype=np.int) ])\n",
    "    \n",
    "    dimsSet = list(map(lambda n: range(n), dimsForIter))\n",
    "    # dimsSet = [range(2), range(3)]\n",
    "    ds = list(itertools.product(*dimsSet))\n",
    "    for d in ds:\n",
    "        ixArgs = ixArgsStart + [[x] for x in d]\n",
    "        ix = np.ix_(*ixArgs)\n",
    "        b = op(a[ix].squeeze())\n",
    "        a[ix] = np.reshape(b, newshape=newshape)\n",
    "\n"
   ]
  },
  {
   "cell_type": "code",
   "execution_count": null,
   "metadata": {
    "collapsed": true
   },
   "outputs": [],
   "source": []
  },
  {
   "cell_type": "code",
   "execution_count": null,
   "metadata": {
    "collapsed": true
   },
   "outputs": [],
   "source": [
    "arr = np.reshape(np.arange(36), newshape=(2,2,3,3))"
   ]
  },
  {
   "cell_type": "code",
   "execution_count": null,
   "metadata": {
    "collapsed": false
   },
   "outputs": [],
   "source": [
    "print1(arr)"
   ]
  },
  {
   "cell_type": "code",
   "execution_count": null,
   "metadata": {
    "collapsed": true
   },
   "outputs": [],
   "source": [
    "arr2 = np.transpose(arr)"
   ]
  },
  {
   "cell_type": "code",
   "execution_count": null,
   "metadata": {
    "collapsed": false
   },
   "outputs": [],
   "source": [
    "print2(arr2)"
   ]
  },
  {
   "cell_type": "code",
   "execution_count": null,
   "metadata": {
    "collapsed": false
   },
   "outputs": [],
   "source": [
    "arr3 = arr2.copy()\n",
    "applyOpToFirstTwoDims(d2, arr3)\n",
    "print2(arr3)"
   ]
  },
  {
   "cell_type": "code",
   "execution_count": null,
   "metadata": {
    "collapsed": false
   },
   "outputs": [],
   "source": [
    "\n",
    "d1\n"
   ]
  },
  {
   "cell_type": "code",
   "execution_count": null,
   "metadata": {
    "collapsed": true
   },
   "outputs": [],
   "source": [
    "arr3 = np.reshape(np.arange(4), newshape=(2,2))"
   ]
  },
  {
   "cell_type": "code",
   "execution_count": null,
   "metadata": {
    "collapsed": false
   },
   "outputs": [],
   "source": [
    "print('arr3\\n', arr3)\n",
    "print('r0\\n', r0(arr3))\n",
    "print('r1\\n', r1(arr3))\n",
    "print('r2\\n', r2(arr3))\n",
    "print('r3\\n', r3(arr3))\n",
    "print('m1\\n', m1(arr3))\n",
    "print('m2\\n', m2(arr3))\n",
    "print('d1\\n', d1(arr3))\n",
    "print('d2\\n', d2(arr3))\n"
   ]
  },
  {
   "cell_type": "code",
   "execution_count": null,
   "metadata": {
    "collapsed": false
   },
   "outputs": [],
   "source": [
    "len(perms2x2)\n"
   ]
  },
  {
   "cell_type": "code",
   "execution_count": null,
   "metadata": {
    "collapsed": false
   },
   "outputs": [],
   "source": [
    "arr3\n"
   ]
  },
  {
   "cell_type": "code",
   "execution_count": null,
   "metadata": {
    "collapsed": false
   },
   "outputs": [],
   "source": [
    "getIndexInPerms2x2(r1(arr3))"
   ]
  },
  {
   "cell_type": "code",
   "execution_count": null,
   "metadata": {
    "collapsed": false
   },
   "outputs": [],
   "source": [
    "op = d2\n",
    "\n",
    "print (op(arr3))\n",
    "k = getIndexInPerms2x2(op(arr3))\n",
    "print (k)\n",
    "print (perms2x2[k])"
   ]
  },
  {
   "cell_type": "code",
   "execution_count": null,
   "metadata": {
    "collapsed": false
   },
   "outputs": [],
   "source": [
    "for k in range(24):\n",
    "    print(k, perms2x2[k])"
   ]
  },
  {
   "cell_type": "raw",
   "metadata": {},
   "source": [
    "print('x')"
   ]
  },
  {
   "cell_type": "code",
   "execution_count": null,
   "metadata": {
    "collapsed": false
   },
   "outputs": [],
   "source": [
    "itertools.product(range(8), range(8))"
   ]
  },
  {
   "cell_type": "code",
   "execution_count": null,
   "metadata": {
    "collapsed": true
   },
   "outputs": [],
   "source": []
  }
 ],
 "metadata": {
  "kernelspec": {
   "display_name": "Python 3",
   "language": "python",
   "name": "python3"
  },
  "language_info": {
   "codemirror_mode": {
    "name": "ipython",
    "version": 3
   },
   "file_extension": ".py",
   "mimetype": "text/x-python",
   "name": "python",
   "nbconvert_exporter": "python",
   "pygments_lexer": "ipython3",
   "version": "3.5.2"
  }
 },
 "nbformat": 4,
 "nbformat_minor": 2
}
