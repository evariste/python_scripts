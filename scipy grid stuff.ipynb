{
 "metadata": {
  "name": ""
 },
 "nbformat": 3,
 "nbformat_minor": 0,
 "worksheets": [
  {
   "cells": [
    {
     "cell_type": "code",
     "collapsed": false,
     "input": [
      "import numpy as np"
     ],
     "language": "python",
     "metadata": {},
     "outputs": [],
     "prompt_number": 1
    },
    {
     "cell_type": "code",
     "collapsed": false,
     "input": [
      "100j"
     ],
     "language": "python",
     "metadata": {},
     "outputs": [
      {
       "metadata": {},
       "output_type": "pyout",
       "prompt_number": 2,
       "text": [
        "100j"
       ]
      }
     ],
     "prompt_number": 2
    },
    {
     "cell_type": "code",
     "collapsed": false,
     "input": [
      "a = 10j"
     ],
     "language": "python",
     "metadata": {},
     "outputs": [],
     "prompt_number": 3
    },
    {
     "cell_type": "code",
     "collapsed": false,
     "input": [
      "a = np.mgrid[1:2:5j, 3:4:3j]"
     ],
     "language": "python",
     "metadata": {},
     "outputs": [],
     "prompt_number": 30
    },
    {
     "cell_type": "code",
     "collapsed": false,
     "input": [
      "a"
     ],
     "language": "python",
     "metadata": {},
     "outputs": [
      {
       "metadata": {},
       "output_type": "pyout",
       "prompt_number": 31,
       "text": [
        "array([[[ 1.  ,  1.  ,  1.  ],\n",
        "        [ 1.25,  1.25,  1.25],\n",
        "        [ 1.5 ,  1.5 ,  1.5 ],\n",
        "        [ 1.75,  1.75,  1.75],\n",
        "        [ 2.  ,  2.  ,  2.  ]],\n",
        "\n",
        "       [[ 3.  ,  3.5 ,  4.  ],\n",
        "        [ 3.  ,  3.5 ,  4.  ],\n",
        "        [ 3.  ,  3.5 ,  4.  ],\n",
        "        [ 3.  ,  3.5 ,  4.  ],\n",
        "        [ 3.  ,  3.5 ,  4.  ]]])"
       ]
      }
     ],
     "prompt_number": 31
    },
    {
     "cell_type": "code",
     "collapsed": false,
     "input": [
      "help(np.mgrid)"
     ],
     "language": "python",
     "metadata": {},
     "outputs": [
      {
       "output_type": "stream",
       "stream": "stdout",
       "text": [
        "Help on nd_grid in module numpy.lib.index_tricks object:\n",
        "\n",
        "class nd_grid(__builtin__.object)\n",
        " |  Construct a multi-dimensional \"meshgrid\".\n",
        " |  \n",
        " |  ``grid = nd_grid()`` creates an instance which will return a mesh-grid\n",
        " |  when indexed.  The dimension and number of the output arrays are equal\n",
        " |  to the number of indexing dimensions.  If the step length is not a\n",
        " |  complex number, then the stop is not inclusive.\n",
        " |  \n",
        " |  However, if the step length is a **complex number** (e.g. 5j), then the\n",
        " |  integer part of its magnitude is interpreted as specifying the\n",
        " |  number of points to create between the start and stop values, where\n",
        " |  the stop value **is inclusive**.\n",
        " |  \n",
        " |  If instantiated with an argument of ``sparse=True``, the mesh-grid is\n",
        " |  open (or not fleshed out) so that only one-dimension of each returned\n",
        " |  argument is greater than 1.\n",
        " |  \n",
        " |  Parameters\n",
        " |  ----------\n",
        " |  sparse : bool, optional\n",
        " |      Whether the grid is sparse or not. Default is False.\n",
        " |  \n",
        " |  Notes\n",
        " |  -----\n",
        " |  Two instances of `nd_grid` are made available in the NumPy namespace,\n",
        " |  `mgrid` and `ogrid`::\n",
        " |  \n",
        " |      mgrid = nd_grid(sparse=False)\n",
        " |      ogrid = nd_grid(sparse=True)\n",
        " |  \n",
        " |  Users should use these pre-defined instances instead of using `nd_grid`\n",
        " |  directly.\n",
        " |  \n",
        " |  Examples\n",
        " |  --------\n",
        " |  >>> mgrid = np.lib.index_tricks.nd_grid()\n",
        " |  >>> mgrid[0:5,0:5]\n",
        " |  array([[[0, 0, 0, 0, 0],\n",
        " |          [1, 1, 1, 1, 1],\n",
        " |          [2, 2, 2, 2, 2],\n",
        " |          [3, 3, 3, 3, 3],\n",
        " |          [4, 4, 4, 4, 4]],\n",
        " |         [[0, 1, 2, 3, 4],\n",
        " |          [0, 1, 2, 3, 4],\n",
        " |          [0, 1, 2, 3, 4],\n",
        " |          [0, 1, 2, 3, 4],\n",
        " |          [0, 1, 2, 3, 4]]])\n",
        " |  >>> mgrid[-1:1:5j]\n",
        " |  array([-1. , -0.5,  0. ,  0.5,  1. ])\n",
        " |  \n",
        " |  >>> ogrid = np.lib.index_tricks.nd_grid(sparse=True)\n",
        " |  >>> ogrid[0:5,0:5]\n",
        " |  [array([[0],\n",
        " |          [1],\n",
        " |          [2],\n",
        " |          [3],\n",
        " |          [4]]), array([[0, 1, 2, 3, 4]])]\n",
        " |  \n",
        " |  Methods defined here:\n",
        " |  \n",
        " |  __getitem__(self, key)\n",
        " |  \n",
        " |  __getslice__(self, i, j)\n",
        " |  \n",
        " |  __init__(self, sparse=False)\n",
        " |  \n",
        " |  __len__(self)\n",
        " |  \n",
        " |  ----------------------------------------------------------------------\n",
        " |  Data descriptors defined here:\n",
        " |  \n",
        " |  __dict__\n",
        " |      dictionary for instance variables (if defined)\n",
        " |  \n",
        " |  __weakref__\n",
        " |      list of weak references to the object (if defined)\n",
        "\n"
       ]
      }
     ],
     "prompt_number": 6
    },
    {
     "cell_type": "code",
     "collapsed": false,
     "input": [
      "np.mgrid("
     ],
     "language": "python",
     "metadata": {},
     "outputs": []
    }
   ],
   "metadata": {}
  }
 ]
}