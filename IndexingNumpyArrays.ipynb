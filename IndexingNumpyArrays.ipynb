{
 "metadata": {
  "name": ""
 },
 "nbformat": 3,
 "nbformat_minor": 0,
 "worksheets": [
  {
   "cells": [
    {
     "cell_type": "code",
     "collapsed": false,
     "input": [
      "import numpy as np"
     ],
     "language": "python",
     "metadata": {},
     "outputs": [],
     "prompt_number": 93
    },
    {
     "cell_type": "code",
     "collapsed": false,
     "input": [
      "x = np.reshape(range(12), (3,4))"
     ],
     "language": "python",
     "metadata": {},
     "outputs": [],
     "prompt_number": 94
    },
    {
     "cell_type": "code",
     "collapsed": false,
     "input": [
      "x"
     ],
     "language": "python",
     "metadata": {},
     "outputs": [
      {
       "metadata": {},
       "output_type": "pyout",
       "prompt_number": 95,
       "text": [
        "array([[ 0,  1,  2,  3],\n",
        "       [ 4,  5,  6,  7],\n",
        "       [ 8,  9, 10, 11]])"
       ]
      }
     ],
     "prompt_number": 95
    },
    {
     "cell_type": "code",
     "collapsed": false,
     "input": [
      "i,j = np.unravel_index(7, x.shape, order='C')"
     ],
     "language": "python",
     "metadata": {},
     "outputs": [],
     "prompt_number": 96
    },
    {
     "cell_type": "code",
     "collapsed": false,
     "input": [
      "print '(', i, ',' , j, ') -> ', x[i][j]"
     ],
     "language": "python",
     "metadata": {},
     "outputs": [
      {
       "output_type": "stream",
       "stream": "stdout",
       "text": [
        "( 1 , 3 ) ->  7\n"
       ]
      }
     ],
     "prompt_number": 97
    },
    {
     "cell_type": "code",
     "collapsed": false,
     "input": [
      "y = np.reshape(range(12), (4,3)).T"
     ],
     "language": "python",
     "metadata": {},
     "outputs": [],
     "prompt_number": 98
    },
    {
     "cell_type": "code",
     "collapsed": false,
     "input": [
      "y"
     ],
     "language": "python",
     "metadata": {},
     "outputs": [
      {
       "metadata": {},
       "output_type": "pyout",
       "prompt_number": 99,
       "text": [
        "array([[ 0,  3,  6,  9],\n",
        "       [ 1,  4,  7, 10],\n",
        "       [ 2,  5,  8, 11]])"
       ]
      }
     ],
     "prompt_number": 99
    },
    {
     "cell_type": "raw",
     "metadata": {},
     "source": [
      "In the display above for y, the j component increases from left to right and the i component increases from top to bottom. The contents of the array show the flat indices of the array elements in Fortran ('column major') order. This is how MatLab interprets flat indices."
     ]
    },
    {
     "cell_type": "code",
     "collapsed": false,
     "input": [
      "i,j = np.unravel_index(7, y.shape, order='F')"
     ],
     "language": "python",
     "metadata": {},
     "outputs": [],
     "prompt_number": 100
    },
    {
     "cell_type": "code",
     "collapsed": false,
     "input": [
      "print '(', i, ',' , j, ') -> ', y[i][j]"
     ],
     "language": "python",
     "metadata": {},
     "outputs": [
      {
       "output_type": "stream",
       "stream": "stdout",
       "text": [
        "( 1 , 2 ) ->  7\n"
       ]
      }
     ],
     "prompt_number": 101
    },
    {
     "cell_type": "code",
     "collapsed": false,
     "input": [
      "z = numpy.reshape( range(24), (2,4,3) ).transpose( (2,1,0) )"
     ],
     "language": "python",
     "metadata": {},
     "outputs": [],
     "prompt_number": 102
    },
    {
     "cell_type": "code",
     "collapsed": false,
     "input": [
      "z"
     ],
     "language": "python",
     "metadata": {},
     "outputs": [
      {
       "metadata": {},
       "output_type": "pyout",
       "prompt_number": 103,
       "text": [
        "array([[[ 0, 12],\n",
        "        [ 3, 15],\n",
        "        [ 6, 18],\n",
        "        [ 9, 21]],\n",
        "\n",
        "       [[ 1, 13],\n",
        "        [ 4, 16],\n",
        "        [ 7, 19],\n",
        "        [10, 22]],\n",
        "\n",
        "       [[ 2, 14],\n",
        "        [ 5, 17],\n",
        "        [ 8, 20],\n",
        "        [11, 23]]])"
       ]
      }
     ],
     "prompt_number": 103
    },
    {
     "cell_type": "raw",
     "metadata": {},
     "source": [
      "In the display of z above, the k subscript increases from left to right, the j subscript increases from top to bottom (within each sub-array) and the i subscript increases across the corresponding components of the printed sub-arrays, i.e. z[0,0,0] = 0, z[1,0,0] = 1, z[2,0,0] = 2, z[0,1,0] = 3, z[1,1,0] = 4, etc. I.e. the elements of the array still represent the flat indices in Fortran ('column major') order."
     ]
    },
    {
     "cell_type": "code",
     "collapsed": false,
     "input": [
      "iDim, jDim, kDim = z.shape"
     ],
     "language": "python",
     "metadata": {},
     "outputs": [],
     "prompt_number": 104
    },
    {
     "cell_type": "code",
     "collapsed": false,
     "input": [
      "ind = 17"
     ],
     "language": "python",
     "metadata": {},
     "outputs": [],
     "prompt_number": 105
    },
    {
     "cell_type": "code",
     "collapsed": false,
     "input": [
      "i,j,k = np.unravel_index(ind, z.shape, order='F')"
     ],
     "language": "python",
     "metadata": {},
     "outputs": [],
     "prompt_number": 106
    },
    {
     "cell_type": "code",
     "collapsed": false,
     "input": [
      "print '(', i, ',' , j, ',' , k, ') -> ', z[i][j][k] , ' == ' , ind"
     ],
     "language": "python",
     "metadata": {},
     "outputs": [
      {
       "output_type": "stream",
       "stream": "stdout",
       "text": [
        "( 2 , 1 , 1 ) ->  17  ==  17\n"
       ]
      }
     ],
     "prompt_number": 107
    },
    {
     "cell_type": "raw",
     "metadata": {},
     "source": [
      "One way of converting the index to a set of i,j,k components "
     ]
    },
    {
     "cell_type": "code",
     "collapsed": false,
     "input": [
      "mod(ind, iDim) , \\\n",
      "int( floor( mod(ind, (iDim*jDim)) / jDim )) , \\\n",
      "int( floor(ind / (iDim*jDim)) )"
     ],
     "language": "python",
     "metadata": {},
     "outputs": [
      {
       "metadata": {},
       "output_type": "pyout",
       "prompt_number": 108,
       "text": [
        "(2, 1, 1)"
       ]
      }
     ],
     "prompt_number": 108
    },
    {
     "cell_type": "code",
     "collapsed": false,
     "input": [
      "ijk = [ np.unravel_index(i, z.shape, order='F') for i in range(8,15) ]"
     ],
     "language": "python",
     "metadata": {},
     "outputs": [],
     "prompt_number": 109
    },
    {
     "cell_type": "code",
     "collapsed": false,
     "input": [
      "ijk"
     ],
     "language": "python",
     "metadata": {},
     "outputs": [
      {
       "metadata": {},
       "output_type": "pyout",
       "prompt_number": 110,
       "text": [
        "[(2, 2, 0), (0, 3, 0), (1, 3, 0), (2, 3, 0), (0, 0, 1), (1, 0, 1), (2, 0, 1)]"
       ]
      }
     ],
     "prompt_number": 110
    },
    {
     "cell_type": "code",
     "collapsed": false,
     "input": [
      "for sub in ijk:\n",
      "    z[sub] = 88\n"
     ],
     "language": "python",
     "metadata": {},
     "outputs": [],
     "prompt_number": 111
    },
    {
     "cell_type": "code",
     "collapsed": false,
     "input": [
      "z"
     ],
     "language": "python",
     "metadata": {},
     "outputs": [
      {
       "metadata": {},
       "output_type": "pyout",
       "prompt_number": 112,
       "text": [
        "array([[[ 0, 88],\n",
        "        [ 3, 15],\n",
        "        [ 6, 18],\n",
        "        [88, 21]],\n",
        "\n",
        "       [[ 1, 88],\n",
        "        [ 4, 16],\n",
        "        [ 7, 19],\n",
        "        [88, 22]],\n",
        "\n",
        "       [[ 2, 88],\n",
        "        [ 5, 17],\n",
        "        [88, 20],\n",
        "        [88, 23]]])"
       ]
      }
     ],
     "prompt_number": 112
    },
    {
     "cell_type": "code",
     "collapsed": false,
     "input": [
      "a,b = (2,3)"
     ],
     "language": "python",
     "metadata": {},
     "outputs": [],
     "prompt_number": 114
    },
    {
     "cell_type": "code",
     "collapsed": false,
     "input": [
      "a,b"
     ],
     "language": "python",
     "metadata": {},
     "outputs": [
      {
       "metadata": {},
       "output_type": "pyout",
       "prompt_number": 115,
       "text": [
        "(2, 3)"
       ]
      }
     ],
     "prompt_number": 115
    },
    {
     "cell_type": "code",
     "collapsed": false,
     "input": [],
     "language": "python",
     "metadata": {},
     "outputs": []
    }
   ],
   "metadata": {}
  }
 ]
}