{
 "metadata": {
  "name": ""
 },
 "nbformat": 3,
 "nbformat_minor": 0,
 "worksheets": [
  {
   "cells": [
    {
     "cell_type": "code",
     "collapsed": false,
     "input": [
      "import sqlite3 as lite\n",
      "import csv"
     ],
     "language": "python",
     "metadata": {},
     "outputs": [],
     "prompt_number": 2
    },
    {
     "cell_type": "code",
     "collapsed": false,
     "input": [
      "csvFile = '/Users/paulaljabar/work/cdb/e-prime/ePrime-info-20140302-GB.csv'\n",
      "dbFile = 'test.db'\n",
      "con = lite.connect(dbFile)"
     ],
     "language": "python",
     "metadata": {},
     "outputs": [],
     "prompt_number": 3
    },
    {
     "cell_type": "code",
     "collapsed": false,
     "input": [
      "\n",
      "f = open(csvFile, \"r\")\n",
      "\n",
      "with f:\n",
      "    csvre = csv.reader(f)\n",
      "    dataRead = []\n",
      "    headerRow = csvre.next()\n",
      "    headerNames = map(lambda x:x.replace(' ', '_'), headerRow)\n",
      "    print 'Header names are: ', headerNames\n",
      "    for row in csvre:\n",
      "        dataRead.append(tuple(row))\n",
      "    allData = {}\n",
      "    for i in range(len(headerNames)):\n",
      "        currName = headerNames[i]\n",
      "        allData[currName] = map(lambda x:x[i], dataRead)\n",
      "    numScans = len(dataRead)"
     ],
     "language": "python",
     "metadata": {},
     "outputs": [
      {
       "output_type": "stream",
       "stream": "stdout",
       "text": [
        "Header names are:  ['NNU', 'SCANID', 'GA', 'MCHAT_Score']\n"
       ]
      }
     ],
     "prompt_number": 9
    },
    {
     "cell_type": "code",
     "collapsed": false,
     "input": [
      "dataToEnter = zip(allData['NNU'], allData['SCANID'], \\\n",
      "                  allData['GA'])\n",
      "with con:\n",
      "    cur = con.cursor()\n",
      "    cur.execute(\"DROP TABLE IF EXISTS scanInfo\")\n",
      "    col1 = \"nnuScanId TEXT PRIMARY KEY\"\n",
      "    col2 = \"ePrimeScanId TEXT\"\n",
      "    col3 = \"gaAtScan FLOAT\"\n",
      "    cmd = \"CREATE TABLE scanInfo(\" + col1 + \", \" + col2 + \", \" + col3 + \")\"\n",
      "    print cmd\n",
      "    cur.execute(cmd)\n",
      "    cur.executemany(\"INSERT INTO scanInfo VALUES(?, ?, ?)\", dataToEnter)\n",
      "\n"
     ],
     "language": "python",
     "metadata": {},
     "outputs": [
      {
       "output_type": "stream",
       "stream": "stdout",
       "text": [
        "CREATE TABLE scanInfo(nnuScanId TEXT PRIMARY KEY, ePrimeScanId TEXT, gaAtScan FLOAT)\n"
       ]
      }
     ],
     "prompt_number": 5
    },
    {
     "cell_type": "code",
     "collapsed": false,
     "input": [
      "allData = {}\n",
      "for n in headerNames:\n",
      "    allData[n] = []"
     ],
     "language": "python",
     "metadata": {},
     "outputs": [],
     "prompt_number": 6
    },
    {
     "cell_type": "code",
     "collapsed": false,
     "input": [
      "headerNames"
     ],
     "language": "python",
     "metadata": {},
     "outputs": [
      {
       "metadata": {},
       "output_type": "pyout",
       "prompt_number": 7,
       "text": [
        "['NNU', 'SCANID', 'GA', 'MCHAT_Score']"
       ]
      }
     ],
     "prompt_number": 7
    },
    {
     "cell_type": "code",
     "collapsed": false,
     "input": [
      "zip(allData['NNU'], allData['SCANID'])"
     ],
     "language": "python",
     "metadata": {},
     "outputs": [
      {
       "metadata": {},
       "output_type": "pyout",
       "prompt_number": 8,
       "text": [
        "[]"
       ]
      }
     ],
     "prompt_number": 8
    },
    {
     "cell_type": "code",
     "collapsed": false,
     "input": [],
     "language": "python",
     "metadata": {},
     "outputs": [],
     "prompt_number": 8
    }
   ],
   "metadata": {}
  }
 ]
}